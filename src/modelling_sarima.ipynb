{
 "cells": [
  {
   "cell_type": "code",
   "execution_count": null,
   "id": "197cb3cd-2784-468a-a624-513f350796a2",
   "metadata": {},
   "outputs": [],
   "source": [
    "import pandas as pd\n",
    "from statsmodels.tsa.statespace.sarimax import SARIMAX\n",
    "import matplotlib.pyplot as plt\n",
    "\n",
    "def sarima_model(df):\n",
    "    \"\"\"\n",
    "    Appliquer le modèle SARIMA pour prédire la demande en produits sanguins.\n",
    "    Le modèle capte les tendances saisonnières et les ajustements nécessaires.\n",
    "    \"\"\"\n",
    "    # Définition de la série temporelle\n",
    "    df.set_index('date', inplace=True)\n",
    "    \n",
    "    # Application du modèle SARIMA\n",
    "    sarima_model = SARIMAX(df['demande'], order=(1, 1, 1), seasonal_order=(1, 1, 1, 12))\n",
    "    sarima_results = sarima_model.fit()\n",
    "\n",
    "    # Affichage des résultats du modèle SARIMA\n",
    "    print(sarima_results.summary())\n",
    "\n",
    "    # Prédiction des 12 prochains mois\n",
    "    forecast_sarima = sarima_results.predict(start=len(df), end=len(df) + 11, dynamic=False)\n",
    "\n",
    "    # Visualisation des prévisions et des données réelles\n",
    "    plt.figure(figsize=(10, 6))\n",
    "    plt.plot(df.index, df['demande'], label='Demande réelle', color='blue')\n",
    "    plt.plot(pd.date_range(df.index[-1], periods=12, freq='M'), forecast_sarima, label='Prévisions SARIMA', color='red')\n",
    "    plt.title('Prévisions de la demande en produits sanguins avec SARIMA')\n",
    "    plt.xlabel('Date')\n",
    "    plt.ylabel('Quantité demandée')\n",
    "    plt.legend()\n",
    "    plt.tight_layout()  # Assure que les étiquettes sont correctement espacées\n",
    "    plt.show()\n",
    "\n",
    "    return forecast_sarima\n",
    "\n",
    "# Charger les données prétraitées et appliquer le modèle SARIMA\n",
    "df = pd.read_csv('results/preprocessed_data.csv')\n",
    "forecast_sarima = sarima_model(df)\n"
   ]
  }
 ],
 "metadata": {
  "kernelspec": {
   "display_name": "Python 3 (ipykernel)",
   "language": "python",
   "name": "python3"
  },
  "language_info": {
   "codemirror_mode": {
    "name": "ipython",
    "version": 3
   },
   "file_extension": ".py",
   "mimetype": "text/x-python",
   "name": "python",
   "nbconvert_exporter": "python",
   "pygments_lexer": "ipython3",
   "version": "3.12.6"
  }
 },
 "nbformat": 4,
 "nbformat_minor": 5
}
