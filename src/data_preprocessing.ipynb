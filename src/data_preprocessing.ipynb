{
 "cells": [
  {
   "cell_type": "code",
   "execution_count": null,
   "id": "aaf04027-ac60-4406-97d8-f44dcb151ef9",
   "metadata": {},
   "outputs": [],
   "source": [
    "import pandas as pd\n",
    "import numpy as np\n",
    "import os\n",
    "import matplotlib.pyplot as plt\n",
    "import seaborn as sns\n",
    "\n",
    "def load_data(file_path):\n",
    "    \"\"\"Chargement des données depuis un fichier CSV.\"\"\"\n",
    "    df = pd.read_csv(file_path)\n",
    "    df['date'] = pd.to_datetime(df['date'], format='%Y-%m-%d')\n",
    "    return df\n",
    "\n",
    "def handle_missing_values(df):\n",
    "    \"\"\"Remplir les valeurs manquantes avec la méthode forward fill.\"\"\"\n",
    "    df.fillna(method='ffill', inplace=True)\n",
    "    return df\n",
    "\n",
    "def preprocess_data(df):\n",
    "    \"\"\"Prétraitement des données.\"\"\"\n",
    "    df = handle_missing_values(df)\n",
    "    df['jour_semaine'] = df['date'].dt.weekday\n",
    "    \n",
    "    # Visualisation de la demande par jour de la semaine\n",
    "    plt.figure(figsize=(10, 6))\n",
    "    sns.countplot(x='jour_semaine', data=df, palette='viridis')\n",
    "    plt.title(\"Répartition des demandes par jour de la semaine\")\n",
    "    plt.xlabel(\"Jour de la semaine\")\n",
    "    plt.ylabel(\"Nombre de demandes\")\n",
    "    plt.xticks(ticks=np.arange(7), labels=[\"Lun\", \"Mar\", \"Mer\", \"Jeu\", \"Ven\", \"Sam\", \"Dim\"])\n",
    "    plt.show()\n",
    "    \n",
    "    return df\n",
    "\n",
    "def save_data(df, output_path):\n",
    "    \"\"\"Sauvegarder les données prétraitées.\"\"\"\n",
    "    os.makedirs(os.path.dirname(output_path), exist_ok=True)\n",
    "    df.to_csv(output_path, index=False)\n",
    "    print(f\"Data prétraitée sauvegardée dans '{output_path}'.\")\n",
    "\n",
    "if __name__ == \"__main__\":\n",
    "    file_path = \"data/produits_sanguins.csv\"\n",
    "    df = load_data(file_path)\n",
    "    df = preprocess_data(df)\n",
    "    save_data(df, 'results/preprocessed_data.csv')\n"
   ]
  }
 ],
 "metadata": {
  "kernelspec": {
   "display_name": "Python 3 (ipykernel)",
   "language": "python",
   "name": "python3"
  },
  "language_info": {
   "codemirror_mode": {
    "name": "ipython",
    "version": 3
   },
   "file_extension": ".py",
   "mimetype": "text/x-python",
   "name": "python",
   "nbconvert_exporter": "python",
   "pygments_lexer": "ipython3",
   "version": "3.12.6"
  }
 },
 "nbformat": 4,
 "nbformat_minor": 5
}
