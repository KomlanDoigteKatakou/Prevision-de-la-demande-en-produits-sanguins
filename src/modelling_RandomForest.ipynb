{
 "cells": [
  {
   "cell_type": "code",
   "execution_count": null,
   "id": "55aba369-df8f-44b5-8f7f-a45371abf762",
   "metadata": {},
   "outputs": [],
   "source": [
    "import pandas as pd\n",
    "from sklearn.ensemble import RandomForestRegressor\n",
    "from sklearn.model_selection import train_test_split\n",
    "import matplotlib.pyplot as plt\n",
    "\n",
    "def random_forest_model(df):\n",
    "    \"\"\"\n",
    "    Appliquer le modèle Random Forest pour prédire la demande en produits sanguins.\n",
    "    Le modèle est entraîné sur des variables explicatives comme la température, les vacances et le jour de la semaine.\n",
    "    \"\"\"\n",
    "    # Sélection des variables explicatives et de la cible\n",
    "    X = df[['température', 'vacances', 'jour_semaine']]  # Variables explicatives\n",
    "    y = df['demande']  # Variable cible\n",
    "\n",
    "    # Séparation des données en ensembles d'entraînement et de test\n",
    "    X_train, X_test, y_train, y_test = train_test_split(X, y, test_size=0.2, shuffle=False)\n",
    "\n",
    "    # Entraînement du modèle Random Forest\n",
    "    rf_model = RandomForestRegressor(n_estimators=100, random_state=42)\n",
    "    rf_model.fit(X_train, y_train)\n",
    "\n",
    "    # Prédictions sur l'ensemble de test\n",
    "    y_pred_rf = rf_model.predict(X_test)\n",
    "\n",
    "    # Visualisation des performances du modèle\n",
    "    plt.figure(figsize=(10, 6))\n",
    "    plt.plot(y_test.index, y_test, label='Demande réelle', color='blue')\n",
    "    plt.plot(y_test.index, y_pred_rf, label='Prévisions Random Forest', color='orange')\n",
    "    plt.title('Comparaison des prévisions Random Forest vs Réel')\n",
    "    plt.xlabel('Date')\n",
    "    plt.ylabel('Quantité demandée')\n",
    "    plt.legend()\n",
    "    plt.tight_layout()  # Assure que les étiquettes sont correctement espacées\n",
    "    plt.show()\n",
    "\n",
    "    return y_pred_rf\n",
    "\n",
    "# Charger les données prétraitées et appliquer le modèle Random Forest\n",
    "df = pd.read_csv('results/preprocessed_data.csv')\n",
    "y_pred_rf = random_forest_model(df)\n"
   ]
  }
 ],
 "metadata": {
  "kernelspec": {
   "display_name": "Python 3 (ipykernel)",
   "language": "python",
   "name": "python3"
  },
  "language_info": {
   "codemirror_mode": {
    "name": "ipython",
    "version": 3
   },
   "file_extension": ".py",
   "mimetype": "text/x-python",
   "name": "python",
   "nbconvert_exporter": "python",
   "pygments_lexer": "ipython3",
   "version": "3.12.6"
  }
 },
 "nbformat": 4,
 "nbformat_minor": 5
}
