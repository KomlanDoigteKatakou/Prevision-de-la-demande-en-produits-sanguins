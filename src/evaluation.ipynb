{
 "cells": [
  {
   "cell_type": "code",
   "execution_count": null,
   "id": "f37bd5c4-c9af-4a5a-a87b-124443e810f2",
   "metadata": {},
   "outputs": [],
   "source": [
    "from sklearn.metrics import mean_absolute_error, mean_squared_error\n",
    "import numpy as np\n",
    "\n",
    "def evaluate_model(true_values, predicted_values):\n",
    "    \"\"\"Évaluer la performance du modèle avec MAE et RMSE.\"\"\"\n",
    "    mae = mean_absolute_error(true_values, predicted_values)\n",
    "    rmse = np.sqrt(mean_squared_error(true_values, predicted_values))\n",
    "    \n",
    "    # Affichage des métriques d'évaluation\n",
    "    print(f\"Erreur absolue moyenne (MAE) : {mae}\")\n",
    "    print(f\"Erreur quadratique moyenne (RMSE) : {rmse}\")\n",
    "\n",
    "# Charger les vraies valeurs et les prédictions du modèle depuis tes modèles SARIMA, RF et LSTM\n",
    "true_values = df['demande'].iloc[-12:].values  # Dernières valeurs réelles, par exemple sur 12 mois\n",
    "predicted_sarima = forecast_sarima  # Prédictions du modèle SARIMA\n",
    "predicted_rf = y_pred_rf  # Prédictions du modèle Random Forest\n",
    "predicted_lstm = predictions_lstm.flatten()  # Prédictions du modèle LSTM\n",
    "\n",
    "# Comparaison avec les vraies valeurs pour chaque modèle\n",
    "print(\"Évaluation du modèle SARIMA:\")\n",
    "evaluate_model(true_values, predicted_sarima)\n",
    "\n",
    "print(\"\\nÉvaluation du modèle Random Forest:\")\n",
    "evaluate_model(true_values, predicted_rf)\n",
    "\n",
    "print(\"\\nÉvaluation du modèle LSTM:\")\n",
    "evaluate_model(true_values, predicted_lstm)\n"
   ]
  }
 ],
 "metadata": {
  "kernelspec": {
   "display_name": "Python 3 (ipykernel)",
   "language": "python",
   "name": "python3"
  },
  "language_info": {
   "codemirror_mode": {
    "name": "ipython",
    "version": 3
   },
   "file_extension": ".py",
   "mimetype": "text/x-python",
   "name": "python",
   "nbconvert_exporter": "python",
   "pygments_lexer": "ipython3",
   "version": "3.12.6"
  }
 },
 "nbformat": 4,
 "nbformat_minor": 5
}
